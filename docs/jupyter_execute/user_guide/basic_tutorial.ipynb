{
 "cells": [
  {
   "cell_type": "markdown",
   "metadata": {},
   "source": [
    "# Basic Tutorial\n",
    "The `thevenin` package is built around three main classes:\n",
    "\n",
    "1. `Model` - used to construct instances of an equivalent circuit.\n",
    "2. `Experiment` - used to define an experimental protocol containing current, voltage, and/or power-controlled steps.\n",
    "3. `Solution` - the result object(s) that contain simulation outputs when a particular model runs a particular experiment.\n",
    "\n",
    "Each of these classes exist at the base package level so they are easily accessible. In this tutorial you will be introduced to each class through a minimal example. The example will demonstrate a typical workflow for constructing a model, defining an experiment, and interacting with the solution.\n",
    "\n",
    "## Construct a Model\n",
    "The model class is constructed by providing options and parameters that define your circuit. The input can be given as either a dictionary or using a `.yaml` file. If you do not give an input, we include a default parameters file for you to get started. However, it is important that you understand this file and/or its dictionary equivalent so you can modify parameter definitions as necessary later. For more information about constructing model inputs, see the {ref}`examples <examples>` section.\n",
    "\n",
    "Here, we will start by simply using the default parameters. A warning will print when the default parameters are accessed, but we can ignore it. After initialization, the class can be printed to check all of the constant options/parameters. The model also contains functional parameters, i.e., properties that change as a function of state of charge (SOC) and/or temperature. These values are difficult to represent in the printed output so they are not displayed."
   ]
  },
  {
   "cell_type": "code",
   "execution_count": 1,
   "metadata": {},
   "outputs": [
    {
     "name": "stdout",
     "output_type": "stream",
     "text": [
      "Model(\n",
      "    num_RC_pairs=1,\n",
      "    soc0=1.0,\n",
      "    capacity=75.0,\n",
      "    ce=1.0,\n",
      "    gamma=0.0,\n",
      "    mass=1.9,\n",
      "    isothermal=False,\n",
      "    Cp=745.0,\n",
      "    T_inf=300.0,\n",
      "    h_therm=12.0,\n",
      "    A_therm=1.0,\n",
      ")\n"
     ]
    },
    {
     "name": "stderr",
     "output_type": "stream",
     "text": [
      "\n",
      "[thevenin UserWarning] Using the default parameter file 'params.yaml'.\n",
      "\n"
     ]
    }
   ],
   "source": [
    "import thevenin as thev\n",
    "\n",
    "model = thev.Model()\n",
    "print(model)"
   ]
  },
  {
   "cell_type": "markdown",
   "metadata": {},
   "source": [
    "Options and parameters can be changed after initialization by modifying the corresponding attribute. However, if you modify anything after initialization, you should ALWAYS run the preprocessor `pre()` method afterward. This method is run automatically when the class is first initialized, but needs to be run again manually in some cases. One such case is when options and/or parameters are changed. Forgetting to do this will cause the internal state and options to not be self consistent. We demonstrate the correct way to make changes below, by setting the `isothermal` option to `True`."
   ]
  },
  {
   "cell_type": "code",
   "execution_count": 2,
   "metadata": {},
   "outputs": [],
   "source": [
    "model.isothermal = True \n",
    "model.pre()"
   ]
  },
  {
   "cell_type": "markdown",
   "metadata": {},
   "source": [
    "## Define an Experiment\n",
    "Similar to how a typical battery cycler would be programmed, experiments are constructed by defining a series of sequential steps. Each step has its own mode (current, voltage, or power), value, time span, and limiting criteria.\n",
    "\n",
    "While we will not cover options for the underlying solver in this tutorial, you should know that these options exist and are controlled through the `Experiment` class. Solver settings that should be consistent throughout all steps should be set with keyword arguments when the class instance is first created. You can also modify solver options at the per-step level (e.g., tighter tolerances) if needed. For more information, see the full documentation.\n",
    "\n",
    "Below we construct an experiment instance with two simple steps. The first step discharges the battery at a constant current until it reaches 3 V. Afterward, the battery rests for 10 minutes. Note that the sign convention for current and power are such that positive values discharge the cell and negative values charge the cell."
   ]
  },
  {
   "cell_type": "code",
   "execution_count": 3,
   "metadata": {},
   "outputs": [],
   "source": [
    "expr = thev.Experiment()\n",
    "expr.add_step('current_A', 75., (4000., 60.), limits=('voltage_V', 3.))\n",
    "expr.add_step('current_A', 0., (600., 60.))"
   ]
  },
  {
   "cell_type": "markdown",
   "metadata": {},
   "source": [
    "There are also control modes available for both voltage and power, and while we do not demonstrate it here, the load value does not need to be constant. You can run dynamic profiles during a step by passing in a callable value, like `f(t: float) -> float`, where `t` is the relative time (in seconds) for the step and the return value is the load at that time.\n",
    "\n",
    "Pay attention to two important details in the example above:\n",
    "\n",
    "1. The `tspan` input (third argument) uses 4000 seconds in the first step even though the current is chosen such that the battery should dischange within an hour. When the `limits` keyword argument is used in a step, and you want to guarantee the limit is actually reached, you will need to pick a time beyond when you expect the limiting event to occur.\n",
    "2. The value `60.` in the second position of the `tspan` argument contains a trailing decimal on purpose. When the decimal is present, Python interprets this as a float rather than an integer. The time step behavior is sensitive to this. When a float is passed, the solution is saved in intervals of this value (here, every 60 seconds). If an integer is passed instead, the full timespan is split into that number of times. In otherwords, `dt = tspan[0] / (tspan[1] - 1)`. We recommend always use floats for steps that have limits.\n",
    "\n",
    "## Run the Simulation\n",
    "The `Model` class contains two methods to run an experiment. You can either run the entire series of experiment steps by calling `run()`, or you can run one step at a time by calling `run_step()`. The most important difference between the two is that the model's internal state is changed and saved at the end of each step when using `run_step()` so that it is ready for the following step. Therefore, steps should only ever be run in sequential order, and steps between multiple experiments should not be mixed. For example, to run the above two steps, one at a time, execute the following code."
   ]
  },
  {
   "cell_type": "code",
   "execution_count": 4,
   "metadata": {},
   "outputs": [],
   "source": [
    "soln_0 = model.run_step(expr, 0)\n",
    "soln_1 = model.run_step(expr, 1)"
   ]
  },
  {
   "cell_type": "markdown",
   "metadata": {},
   "source": [
    "Indexing starts at zero to be consistent with the Python language. When steps are run one at a time, the return value is a `StepSolution` instance, which we discuss below. \n",
    "\n",
    "The most important thing to be aware of when running multiple steps or even multiple experiments is how the model stores and updates its internal state. When using `run_step()`, the model's internal state is always saved at the end of each step. Therefore, each subsequent step starts off exactly where the previous step left off. The user can reset the model back to a rested condition at any point by manually calling the `pre()` method. A call to `run()` operates a bit differently.\n",
    "\n",
    "The default behavior for `run()` will automatically run all steps in sequential order AND will reset the model state back to a rested condition at the of of the experiment. This is convenient for cases where you want to test discharge behaviors at different rates without needing to add charges in between each discharge. Using the default behavior, the model would simply start each discharge experiment from the same original rested state. You can bypass the state reset by using the optional `reset_state=False` keyword argument. Bypassing this reset is necessary if you plan to run sequential experiments in which the final battery state from a previous experiment needs to match the initial state of a following experiment. We also provide a way to initialize the battery state according to a previous solution by using the `pre()` method. See the full documentation for more information.\n",
    "\n",
    "Below, we simply reset the model back to a rested condition since it was already run in the blocks above. After the pre-processing reset, we run both steps from the experiment defined above in one call to `run()`. Note that the solutions returned from the `run()` method are `CycleSolution` instances, which differ from `StepSolution` in some key ways. The following section comments on both types of solutions."
   ]
  },
  {
   "cell_type": "code",
   "execution_count": 5,
   "metadata": {},
   "outputs": [],
   "source": [
    "model.pre()\n",
    "\n",
    "soln = model.run(expr)"
   ]
  },
  {
   "cell_type": "markdown",
   "metadata": {},
   "source": [
    "## Interacting with Solutions\n",
    "Simulation outputs will give one of two solution objects depending on your run mode. A `StepSolution` is returned when you run step by step and a `CycleSolution` is returned when using `run()`. The latter simply stitches together the individual step solutions. Each solution object has numerous attributes to inform the user whether or not their simulation was successful, how long the integrator took, etc. For `CycleSolution` instances, most of the values are lists and the indices correspond to the steps from the experiment. For example, below we see that both steps were successful and the total integration time."
   ]
  },
  {
   "cell_type": "code",
   "execution_count": 6,
   "metadata": {},
   "outputs": [
    {
     "name": "stdout",
     "output_type": "stream",
     "text": [
      "CycleSolution(\n",
      "    solvetime=0.011 s,\n",
      "    success=[True, True],\n",
      "    status=[2, 1],\n",
      "    nfev=[231, 67],\n",
      "    njev=[31, 26],\n",
      "    vars=['time_s', 'time_min', 'time_h', 'soc', 'temperature_K', 'voltage_V',\n",
      "          'hysteresis_V', 'current_A', 'power_W', 'eta0_V', 'eta1_V'],\n",
      ")\n"
     ]
    }
   ],
   "source": [
    "print(soln)"
   ]
  },
  {
   "cell_type": "markdown",
   "metadata": {},
   "source": [
    "Most likely, everything else you will need to extract from solutions can be found in the solution's `vars` dictionary. This dictionary contains easy to read names and units for all of the model's outputs. You can check the available keys by printing the solution instance, as shown above.\n",
    "\n",
    "All values in the `vars` dictionary are 1D arrays that provide the values of the named variable at each integrator step. You can plot any two variables against each other using the `plot()` method. For example, the following code block plots the cell voltage against time."
   ]
  },
  {
   "cell_type": "code",
   "execution_count": 7,
   "metadata": {},
   "outputs": [
    {
     "data": {
      "image/png": "[encoded data removed]",
      "text/plain": [
       "<Figure size 640x480 with 1 Axes>"
      ]
     },
     "metadata": {},
     "output_type": "display_data"
    }
   ],
   "source": [
    "soln.plot('time_min', 'voltage_V')"
   ]
  },
  {
   "cell_type": "markdown",
   "metadata": {},
   "source": [
    "It is sometimes useful to extract portions of a `CycleSolution` to examine what occurred within a given step, or to combine `StepSolution` instances for post-processing or plotting purposes. Both of these features are available, as demonstrated below."
   ]
  },
  {
   "cell_type": "code",
   "execution_count": 8,
   "metadata": {},
   "outputs": [],
   "source": [
    "soln_0 = soln.get_steps(0)\n",
    "soln_1 = soln.get_steps(1)\n",
    "\n",
    "soln = thev.CycleSolution(soln_0, soln_1)"
   ]
  }
 ],
 "metadata": {
  "kernelspec": {
   "display_name": "rovi",
   "language": "python",
   "name": "python3"
  },
  "language_info": {
   "codemirror_mode": {
    "name": "ipython",
    "version": 3
   },
   "file_extension": ".py",
   "mimetype": "text/x-python",
   "name": "python",
   "nbconvert_exporter": "python",
   "pygments_lexer": "ipython3",
   "version": "3.12.7"
  }
 },
 "nbformat": 4,
 "nbformat_minor": 2
}