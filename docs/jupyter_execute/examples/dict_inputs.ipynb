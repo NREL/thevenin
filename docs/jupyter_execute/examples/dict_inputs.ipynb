{
 "cells": [
  {
   "cell_type": "markdown",
   "metadata": {},
   "source": [
    "# Dictionary Inputs\n",
    "In the previous example, the model parameters were built from a '.yaml' file. In some cases, the functional parameters are relatively complex and can be challenging to specify in the '.yaml' format. Therefore, the model can also be constructed using a dictionary, as demonstrated below.\n",
    "\n",
    "## Import Modules"
   ]
  },
  {
   "cell_type": "code",
   "execution_count": 1,
   "metadata": {},
   "outputs": [],
   "source": [
    "import numpy as np\n",
    "import thevenin as thev"
   ]
  },
  {
   "cell_type": "markdown",
   "metadata": {},
   "source": [
    "## Define the Parameters\n",
    "In addition to the open circuit voltage (`ocv`), all circuit elements (i.e., `R0`, `R1`, `C1`, etc.) must be specified as functions. While `OCV` is only a function of the state of charge (`soc`, -), the circuit elements are function of both soc and temperature (`T_cell`, K). It is important that these are the only inputs to the functions and that the inputs are given in the correct order. \n",
    "\n",
    "The functions below come from fitting the equivalent circuit model to a 75 Ah graphite-NMC battery made by Kokam. Fits were performed using charge and discharge pulses from HPPC tests done at multiple temperatures. The `soc` was assumed constant during a single pulse and each resistor and capacitor element was fit as a constant for a given soc/temperature condition. Expressions below come from AI-Batt, which is an open-source software capable of semi-autonomously identifying algebraic expressions that map inputs (`soc` and `T_cell`) to outputs (`R0`, `R1`, `C1`)."
   ]
  },
  {
   "cell_type": "code",
   "execution_count": 2,
   "metadata": {},
   "outputs": [],
   "source": [
    "stressors = {'q_dis': 1.}\n",
    "\n",
    "\n",
    "def calc_xa(soc: float) -> float:\n",
    "    return 8.5e-3 + soc*(7.8e-1 - 8.5e-3)\n",
    "\n",
    "\n",
    "def calc_Ua(soc: float) -> float:\n",
    "    xa = calc_xa(soc)\n",
    "    Ua = 0.6379 + 0.5416*np.exp(-305.5309*xa) \\\n",
    "                + 0.0440*np.tanh(-1.*(xa-0.1958) / 0.1088) \\\n",
    "                - 0.1978*np.tanh((xa-1.0571) / 0.0854) \\\n",
    "                - 0.6875*np.tanh((xa+0.0117) / 0.0529) \\\n",
    "                - 0.0175*np.tanh((xa-0.5692) / 0.0875)\n",
    "\n",
    "    return Ua\n",
    "\n",
    "\n",
    "def normalize_inputs(soc: float, T_cell: float) -> dict:\n",
    "    inputs = {\n",
    "        'T_norm': T_cell / (273.15 + 35.),\n",
    "        'Ua_norm': calc_Ua(soc) / 0.123,\n",
    "    }\n",
    "    return inputs\n",
    "\n",
    "\n",
    "def ocv_func(soc: float) -> float:\n",
    "    coeffs = np.array([\n",
    "        1846.82880284425, -9142.89133579961, 19274.3547435787, -22550.631463739,\n",
    "        15988.8818738468, -7038.74760241881, 1895.2432152617, -296.104300038221,\n",
    "        24.6343726509044, 2.63809042502323,\n",
    "    ])\n",
    "    return np.polyval(coeffs, soc)\n",
    "\n",
    "\n",
    "def R0_func(soc: float, T_cell: float) -> float:\n",
    "    inputs = normalize_inputs(soc, T_cell)\n",
    "    T_norm = inputs['T_norm']\n",
    "    Ua_norm = inputs['Ua_norm']\n",
    "\n",
    "    b = np.array([4.07e12, 23.2, -16., -47.5, 2.62])\n",
    "\n",
    "    R0 = b[0] * np.exp( b[1] / T_norm**4 * Ua_norm**(1/4) ) \\\n",
    "              * np.exp( b[2] / T_norm**4 * Ua_norm**(1/3) ) \\\n",
    "              * np.exp( b[3] / T_norm**0.5 ) \\\n",
    "              * np.exp( b[4] / stressors['q_dis'] )\n",
    "\n",
    "    return R0\n",
    "\n",
    "\n",
    "def R1_func(soc: float, T_cell: float) -> float:\n",
    "    inputs = normalize_inputs(soc, T_cell)\n",
    "    T_norm = inputs['T_norm']\n",
    "    Ua_norm = inputs['Ua_norm']\n",
    "\n",
    "    b = np.array([2.84e-5, -12.5, 11.6, 1.96, -1.67])\n",
    "\n",
    "    R1 = b[0] * np.exp( b[1] / T_norm**3 * Ua_norm**(1/4) ) \\\n",
    "              * np.exp( b[2] / T_norm**4 * Ua_norm**(1/4) ) \\\n",
    "              * np.exp( b[3] / stressors['q_dis'] ) \\\n",
    "              * np.exp( b[4] * soc**4 )\n",
    "\n",
    "    return R1\n",
    "\n",
    "\n",
    "def C1_func(soc: float, T_cell: float) -> float:\n",
    "    inputs = normalize_inputs(soc, T_cell)\n",
    "    T_norm = inputs['T_norm']\n",
    "    Ua_norm = inputs['Ua_norm']\n",
    "\n",
    "    b = np.array([19., -3.11, -27., 36.2, -0.256])\n",
    "\n",
    "    C1 = b[0] * np.exp( b[1] * soc**4 ) \\\n",
    "              * np.exp( b[2] / T_norm**4 * Ua_norm**(1/2) ) \\\n",
    "              * np.exp( b[3] / T_norm**3 * Ua_norm**(1/3) ) \\\n",
    "              * np.exp( b[4] / stressors['q_dis']**3 )\n",
    "\n",
    "    return C1"
   ]
  },
  {
   "cell_type": "markdown",
   "metadata": {},
   "source": [
    "## Construct a Model\n",
    "The model is constructed below using all necessary keyword arguments. You can see a list of these parameters using ``help(thev.Model)``."
   ]
  },
  {
   "cell_type": "code",
   "execution_count": 3,
   "metadata": {},
   "outputs": [],
   "source": [
    "params = {\n",
    "    'num_RC_pairs': 1,\n",
    "    'soc0': 1.,\n",
    "    'capacity': 75.,\n",
    "    'mass': 1.9,\n",
    "    'isothermal': False,\n",
    "    'Cp': 745.,\n",
    "    'T_inf': 300.,\n",
    "    'h_therm': 12.,\n",
    "    'A_therm': 1.,\n",
    "    'ocv': ocv_func,\n",
    "    'R0': R0_func,\n",
    "    'R1': R1_func,\n",
    "    'C1': C1_func,\n",
    "}\n",
    "\n",
    "model = thev.Model(params)"
   ]
  },
  {
   "cell_type": "markdown",
   "metadata": {},
   "source": [
    "## Build an Experiment\n",
    "Experiments are built using the `Experiment` class. An experiment starts out empty and is then constructed by adding a series of current-, voltage-, or power-controlled steps. Each step requires knowing the control mode/units, the control value, a relative time span, and limiting criteria (optional). Control values can be specified as either constants or dynamic profiles with sinatures like `f(t: float) -> float` where `t` is the relative time of the new step, in seconds. The experiment below discharges at a nominal C/5 rate for up to 5 hours. A limit is set such that if the voltage hits 3 V then the next step is triggered early. Afterward, the battery rests for 10 min before charging at C/5 for 5 hours or until 4.2 V is reached. The final step is a 1 hour voltage hold at 4.2 V.\n",
    "\n",
    "Note that the time span for each step is constructed as `(t_max: float, dt: float)` which is used to determine the time array as `tspan = np.arange(0., t_max + dt, dt)`. You can also construct a time array given `(t_max: float, Nt: int)` by using an integer instead of a float in the second position. In this case, `tspan = np.linspace(0., t_max, Nt)`. To learn more about building an experiment, including which limits are allowed and/or how to adjust solver settings on a per-step basis, see the documentation `help(thev.Experiment)`."
   ]
  },
  {
   "cell_type": "code",
   "execution_count": 4,
   "metadata": {},
   "outputs": [],
   "source": [
    "expr = thev.Experiment()\n",
    "expr.add_step('current_A', 15., (5.*3600., 60.), limits=('voltage_V', 3.))\n",
    "expr.add_step('current_A', 0., (600., 5.))\n",
    "expr.add_step('current_A', -15., (5.*3600., 60.), limits=('voltage_V', 4.2))\n",
    "expr.add_step('voltage_V', 4.2, (3600., 60.))"
   ]
  },
  {
   "cell_type": "markdown",
   "metadata": {},
   "source": [
    "## Run the Experiment\n",
    "Experiments are run using either the `run` method, as shown below, or the `run_step` method. The difference between the two is that the `run` method will run all experiment steps with one call. If you would prefer to run the discharge first, perform an analysis, and then run the rest, etc. then you will want to use the `run_step` method. In this case, you should always start with step 0 and then run the following steps in order. When you use `run_step` the models internal state is saved at the end of each step. Therefore, after all steps have been run, you should run the `pre` method to pre-process the model back to its original initial state. All of this is handled automatically in the `run` method.\n",
    "\n",
    "Regardless of how you run your experiment, the return value will be a solution instance. Solution instances each contain a `vars` attribute which contains a dictionary of the output variables. Keys are generally self descriptive and include units where applicable. To quickly plot any two variables against one another, use the `plot` method with the two keys of interest specified for the `x` and `y` variables of the figure. Below, time (in hours) is plotted against voltage."
   ]
  },
  {
   "cell_type": "code",
   "execution_count": 5,
   "metadata": {},
   "outputs": [
    {
     "data": {
      "image/png": "[encoded data removed]",
      "text/plain": [
       "<Figure size 640x480 with 1 Axes>"
      ]
     },
     "metadata": {},
     "output_type": "display_data"
    }
   ],
   "source": [
    "soln = model.run(expr)\n",
    "soln.plot('time_h', 'voltage_V')"
   ]
  },
  {
   "cell_type": "code",
   "execution_count": null,
   "metadata": {},
   "outputs": [],
   "source": []
  }
 ],
 "metadata": {
  "kernelspec": {
   "display_name": "rovi",
   "language": "python",
   "name": "python3"
  },
  "language_info": {
   "codemirror_mode": {
    "name": "ipython",
    "version": 3
   },
   "file_extension": ".py",
   "mimetype": "text/x-python",
   "name": "python",
   "nbconvert_exporter": "python",
   "pygments_lexer": "ipython3",
   "version": "3.11.9"
  }
 },
 "nbformat": 4,
 "nbformat_minor": 2
}